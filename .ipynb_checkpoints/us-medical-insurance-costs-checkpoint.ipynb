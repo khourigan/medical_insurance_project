{
 "cells": [
  {
   "cell_type": "markdown",
   "metadata": {},
   "source": [
    "# U.S. Medical Insurance Costs"
   ]
  },
  {
   "cell_type": "code",
   "execution_count": 1,
   "metadata": {},
   "outputs": [],
   "source": [
    "import csv"
   ]
  },
  {
   "cell_type": "code",
   "execution_count": 2,
   "metadata": {},
   "outputs": [],
   "source": [
    "age_list = []\n",
    "children_list = []\n",
    "smoker_list = []\n",
    "region_list = []\n",
    "charges_list = []\n",
    "\n",
    "with open('insurance.csv', newline='') as insurance_csv:\n",
    "    insurance_reader = csv.DictReader(insurance_csv)\n",
    "    for row in insurance_reader:\n",
    "        age_list.append(row['age'])\n",
    "        children_list.append(row['children'])\n",
    "        smoker_list.append(row['smoker'])\n",
    "        region_list.append(row['region'])\n",
    "        charges_list.append(row['charges'])"
   ]
  },
  {
   "cell_type": "code",
   "execution_count": 3,
   "metadata": {},
   "outputs": [
    {
     "name": "stdout",
     "output_type": "stream",
     "text": [
      "39.20702541106129\n"
     ]
    }
   ],
   "source": [
    "# Average age of patients\n",
    "\n",
    "age_list_int = [ int(x) for x in age_list]\n",
    "average_age = sum(age_list_int) / len(age_list_int)\n",
    "print(average_age)"
   ]
  },
  {
   "cell_type": "code",
   "execution_count": 4,
   "metadata": {},
   "outputs": [],
   "source": [
    "# Where are the majority of patients from?\n",
    "\n",
    "def region_table():\n",
    "    return {\n",
    "        \"southeast\":    0,\n",
    "        \"southwest\":   0,\n",
    "        \"northwest\": 0,\n",
    "        \"northeast\":  0,\n",
    "    }\n",
    "\n",
    "region_table = region_table()"
   ]
  },
  {
   "cell_type": "code",
   "execution_count": 5,
   "metadata": {},
   "outputs": [],
   "source": [
    "def majority_region(region_list, region_frequency):\n",
    "    for region in region_list:\n",
    "        region_frequency[region] += 1"
   ]
  },
  {
   "cell_type": "code",
   "execution_count": 6,
   "metadata": {},
   "outputs": [
    {
     "name": "stdout",
     "output_type": "stream",
     "text": [
      "southeast\n"
     ]
    }
   ],
   "source": [
    "majority_region(region_list, region_table)\n",
    "major_region = max(region_table, key=region_table.get)\n",
    "print(major_region)"
   ]
  },
  {
   "cell_type": "code",
   "execution_count": 59,
   "metadata": {},
   "outputs": [],
   "source": [
    "# What is the difference in costs between smokers and non-smokers?\n",
    "\n",
    "charges_list_float = [ float(x) for x in charges_list]\n",
    "smoker_costs = list(zip(smoker_list, charges_list_float))"
   ]
  },
  {
   "cell_type": "code",
   "execution_count": 101,
   "metadata": {},
   "outputs": [],
   "source": [
    "def cost_diff():\n",
    "    yes_smoker = 0\n",
    "    no_smoker = 0\n",
    "    for pair in smoker_costs:\n",
    "        if pair[0] == 'yes':\n",
    "            yes_smoker += pair[1]\n",
    "        if pair[0] == 'no':\n",
    "            no_smoker += pair[1]\n",
    "\n",
    "    return yes_smoker - no_smoker\n"
   ]
  },
  {
   "cell_type": "code",
   "execution_count": 102,
   "metadata": {},
   "outputs": [
    {
     "name": "stdout",
     "output_type": "stream",
     "text": [
      "-192297.9470789954\n"
     ]
    }
   ],
   "source": [
    "difference = cost_diff()\n",
    "print(difference)"
   ]
  },
  {
   "cell_type": "code",
   "execution_count": 106,
   "metadata": {},
   "outputs": [],
   "source": [
    "# What is the average age for someone with at least one child?\n",
    "\n",
    "age_list_float = [int(x) for x in age_list]\n",
    "child_list_float = [int(x) for x in children_list]\n",
    "age_and_children = list(zip(age_list_float, child_list_float))"
   ]
  },
  {
   "cell_type": "code",
   "execution_count": 111,
   "metadata": {},
   "outputs": [],
   "source": [
    "def avg_age_parent():\n",
    "    parents_ages = [ pair[0] for pair in age_and_children if pair[1] > 0 ]\n",
    "    return sum(parents_ages) / len(parents_ages)"
   ]
  },
  {
   "cell_type": "code",
   "execution_count": 112,
   "metadata": {},
   "outputs": [
    {
     "name": "stdout",
     "output_type": "stream",
     "text": [
      "39.78010471204188\n"
     ]
    }
   ],
   "source": [
    "average_age = avg_age_parent()\n",
    "print(average_age)"
   ]
  }
 ],
 "metadata": {
  "kernelspec": {
   "display_name": "Python 3 (ipykernel)",
   "language": "python",
   "name": "python3"
  },
  "language_info": {
   "codemirror_mode": {
    "name": "ipython",
    "version": 3
   },
   "file_extension": ".py",
   "mimetype": "text/x-python",
   "name": "python",
   "nbconvert_exporter": "python",
   "pygments_lexer": "ipython3",
   "version": "3.9.12"
  }
 },
 "nbformat": 4,
 "nbformat_minor": 4
}

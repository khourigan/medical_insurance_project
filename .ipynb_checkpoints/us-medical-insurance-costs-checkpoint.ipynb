{
 "cells": [
  {
   "cell_type": "markdown",
   "metadata": {},
   "source": [
    "# U.S. Medical Insurance Costs"
   ]
  },
  {
   "cell_type": "code",
   "execution_count": 85,
   "metadata": {},
   "outputs": [],
   "source": [
    "import csv\n",
    "import pandas as pd\n",
    "from matplotlib import pyplot as plt\n",
    "import numpy as np"
   ]
  },
  {
   "cell_type": "code",
   "execution_count": 23,
   "metadata": {},
   "outputs": [],
   "source": [
    "age_list = []\n",
    "children_list = []\n",
    "smoker_list = []\n",
    "region_list = []\n",
    "charges_list = []\n",
    "bmi_list = []\n",
    "\n",
    "with open('insurance.csv', newline='') as insurance_csv:\n",
    "    insurance_reader = csv.DictReader(insurance_csv)\n",
    "    for row in insurance_reader:\n",
    "        age_list.append(row['age'])\n",
    "        children_list.append(row['children'])\n",
    "        smoker_list.append(row['smoker'])\n",
    "        region_list.append(row['region'])\n",
    "        charges_list.append(row['charges'])\n",
    "        bmi_list.append(row['bmi'])"
   ]
  },
  {
   "cell_type": "markdown",
   "metadata": {},
   "source": [
    "## What is the average age of patients?\n",
    "\n",
    "The patients in this dataset are about 39 years old on average."
   ]
  },
  {
   "cell_type": "code",
   "execution_count": 7,
   "metadata": {},
   "outputs": [
    {
     "name": "stdout",
     "output_type": "stream",
     "text": [
      "39.20702541106129\n"
     ]
    }
   ],
   "source": [
    "age_list_int = [ int(x) for x in age_list]\n",
    "average_age = sum(age_list_int) / len(age_list_int)\n",
    "print(average_age)"
   ]
  },
  {
   "cell_type": "markdown",
   "metadata": {},
   "source": [
    "## What region are the majority of patients from?\n",
    "\n",
    "The majority of patients in this dataset come from the southeast United States."
   ]
  },
  {
   "cell_type": "code",
   "execution_count": 8,
   "metadata": {},
   "outputs": [],
   "source": [
    "def region_table():\n",
    "    return {\n",
    "        \"southeast\":    0,\n",
    "        \"southwest\":   0,\n",
    "        \"northwest\": 0,\n",
    "        \"northeast\":  0,\n",
    "    }\n",
    "\n",
    "region_table = region_table()"
   ]
  },
  {
   "cell_type": "code",
   "execution_count": 9,
   "metadata": {},
   "outputs": [],
   "source": [
    "def majority_region(region_list, region_frequency):\n",
    "    for region in region_list:\n",
    "        region_frequency[region] += 1"
   ]
  },
  {
   "cell_type": "code",
   "execution_count": 10,
   "metadata": {},
   "outputs": [
    {
     "name": "stdout",
     "output_type": "stream",
     "text": [
      "southeast\n"
     ]
    }
   ],
   "source": [
    "majority_region(region_list, region_table)\n",
    "major_region = max(region_table, key=region_table.get)\n",
    "print(major_region)"
   ]
  },
  {
   "cell_type": "markdown",
   "metadata": {},
   "source": [
    "## How do medical insurance charges differ across regions?\n",
    "\n",
    "On average and in total, the southwest and northwest show the least amount of medical insurance charges. The greatest amount of charges occur in the southeast. The southwest has an average of \\\\$12,346 in medical insurance charges with a grand total of \\\\$4,012,754 in this dataset. In contrast, the southeast has an average of \\\\$14,735 with a total of \\\\$5,363,689 in medical insurance charges."
   ]
  },
  {
   "cell_type": "code",
   "execution_count": 38,
   "metadata": {},
   "outputs": [],
   "source": [
    "charges_list_float = [ float(x) for x in charges_list]\n",
    "region_charges_list = list(zip(region_list, charges_list_float))"
   ]
  },
  {
   "cell_type": "code",
   "execution_count": 57,
   "metadata": {},
   "outputs": [
    {
     "name": "stdout",
     "output_type": "stream",
     "text": [
      "{'southeast': 14735.411437609895, 'southwest': 12346.93737729231, 'northwest': 12417.575373969228, 'northeast': 13406.3845163858}\n"
     ]
    }
   ],
   "source": [
    "# Average charges per region\n",
    "\n",
    "def avg_region_charges_table():\n",
    "    southeast = []\n",
    "    southwest = []\n",
    "    northwest = []\n",
    "    northeast = []\n",
    "    for pair in region_charges_list:\n",
    "        if pair[0] == \"southeast\":\n",
    "            southeast.append(pair[1])\n",
    "        elif pair[0] == \"southwest\":\n",
    "            southwest.append(pair[1])\n",
    "        elif pair[0] == \"northwest\":\n",
    "            northwest.append(pair[1])\n",
    "        else:\n",
    "            northeast.append(pair[1])\n",
    "    return {\n",
    "        \"southeast\": sum(southeast) / len(southeast),\n",
    "        \"southwest\": sum(southwest) / len(southwest),\n",
    "        \"northwest\": sum(northwest) / len(northwest),\n",
    "        \"northeast\": sum(northeast) / len(northeast)\n",
    "    }\n",
    "\n",
    "avg_region_charges_table = avg_region_charges_table()\n",
    "print(avg_region_charges_table)"
   ]
  },
  {
   "cell_type": "code",
   "execution_count": 77,
   "metadata": {},
   "outputs": [
    {
     "data": {
      "image/png": "[encoded data removed]",
      "text/plain": [
       "<Figure size 432x288 with 1 Axes>"
      ]
     },
     "metadata": {
      "needs_background": "light"
     },
     "output_type": "display_data"
    }
   ],
   "source": [
    "avg_region_charges = avg_region_charges_table.items()\n",
    "x, y = zip(*avg_region_charges)\n",
    "colors = ['#1b9e77', '#d95f02', '#7570b3', '#e7298a']\n",
    "\n",
    "plt.bar(x, y, color = colors)\n",
    "plt.ylim(8000)\n",
    "plt.xlabel(\"Region\")\n",
    "plt.ylabel(\"Charges (USD)\")\n",
    "plt.title(\"Average U.S. Medical Insurance Charges by Region\")\n",
    "plt.show()"
   ]
  },
  {
   "cell_type": "code",
   "execution_count": 61,
   "metadata": {},
   "outputs": [
    {
     "name": "stdout",
     "output_type": "stream",
     "text": [
      "{'southeast': 5363689.763290002, 'southwest': 4012754.647620001, 'northwest': 4035711.9965399993, 'northeast': 4343668.583308999}\n"
     ]
    }
   ],
   "source": [
    "# Total charges per region\n",
    "\n",
    "def total_region_charges_table():\n",
    "    southeast = []\n",
    "    southwest = []\n",
    "    northwest = []\n",
    "    northeast = []\n",
    "    for pair in region_charges_list:\n",
    "        if pair[0] == \"southeast\":\n",
    "            southeast.append(pair[1])\n",
    "        elif pair[0] == \"southwest\":\n",
    "            southwest.append(pair[1])\n",
    "        elif pair[0] == \"northwest\":\n",
    "            northwest.append(pair[1])\n",
    "        else:\n",
    "            northeast.append(pair[1])\n",
    "    return {\n",
    "        \"southeast\": sum(southeast),\n",
    "        \"southwest\": sum(southwest),\n",
    "        \"northwest\": sum(northwest),\n",
    "        \"northeast\": sum(northeast)\n",
    "    }\n",
    "\n",
    "total_region_charges_table = total_region_charges_table()\n",
    "print(total_region_charges_table)"
   ]
  },
  {
   "cell_type": "code",
   "execution_count": 78,
   "metadata": {},
   "outputs": [
    {
     "data": {
      "image/png": "[encoded data removed]",
      "text/plain": [
       "<Figure size 432x288 with 1 Axes>"
      ]
     },
     "metadata": {
      "needs_background": "light"
     },
     "output_type": "display_data"
    }
   ],
   "source": [
    "total_region_charges = total_region_charges_table.items()\n",
    "x, y = zip(*total_region_charges)\n",
    "\n",
    "plt.bar(x, y, color = colors)\n",
    "plt.ylim(3000000)\n",
    "plt.xlabel(\"Region\")\n",
    "plt.ylabel(\"Charges (Millions USD)\")\n",
    "plt.title(\"Total U.S. Medical Insurance Charges by Region\")\n",
    "plt.show()"
   ]
  },
  {
   "cell_type": "markdown",
   "metadata": {},
   "source": [
    "## What is the difference in cost between smokers and non-smokers?\n",
    "\n",
    "Unexpectedly, the medical charges for smokers are roughly $192,297 *less* than those for non-smokers in this dataset. \n",
    "\n",
    "There are many possible factors that might account for this, two of which we can test within the dataset. \n",
    "\n",
    "One reason for this may be that the smokers are younger on average than the non-smokers. The data shows however, that the average age is very similar between smokers and non-smokers (about 38 years old and 39 years old, respectively).\n",
    "\n",
    "Another possibility is that the BMI of non-smokers may be higher than that of smokers. The data does show that to be the case, with a ~9 point average difference in BMI between smokers and non-smokers.\n",
    "\n",
    "One other possibility that we can look at in the data is where the majority of smokers and non-smokers are located. If smokers live in an area where quality healthcare is more accessible, that could offset any potential negative effects of smoking on someone's health, reducing the charges to their medical insurance. There are cultural differences that could result in healthier habits outside of smoking as well. In addition, smokers may feel discouraged for any number of reasons for seeking out healthcare or healthcare costs could simply differ depending on region. While most of these questions are not answerable with this dataset, if non-smokers are in a region where insurance charges are typically higher, then we would expect the charges to insurance for their care to be higher even if they may otherwise be in better health.\n",
    "\n",
    "We know from previous analyses that the greatest number of patients in this dataset are from the southeast, and that the southeast also has the highest amount of medical insurance charges. When it comes to smoking, this data shows that while the number and percentage of non-smokers is fairly equally distributed across regions while the southeast has a far greater number of smokers than the rest of the U.S. Thus in the case of this particular dataset, region would not seem to be correlated with the much higher medical insurance charges incurred by non-smokers compared to smokers."
   ]
  },
  {
   "cell_type": "code",
   "execution_count": 11,
   "metadata": {},
   "outputs": [],
   "source": [
    "# Cost difference for smokers vs. non-smokers\n",
    "\n",
    "smoker_costs = list(zip(smoker_list, charges_list_float))"
   ]
  },
  {
   "cell_type": "code",
   "execution_count": 12,
   "metadata": {},
   "outputs": [],
   "source": [
    "def cost_diff():\n",
    "    yes_smoker = 0\n",
    "    no_smoker = 0\n",
    "    for pair in smoker_costs:\n",
    "        if pair[0] == 'yes':\n",
    "            yes_smoker += pair[1]\n",
    "        if pair[0] == 'no':\n",
    "            no_smoker += pair[1]\n",
    "\n",
    "    return yes_smoker - no_smoker"
   ]
  },
  {
   "cell_type": "code",
   "execution_count": 13,
   "metadata": {},
   "outputs": [
    {
     "name": "stdout",
     "output_type": "stream",
     "text": [
      "-192297.9470789954\n"
     ]
    }
   ],
   "source": [
    "difference = cost_diff()\n",
    "print(difference)"
   ]
  },
  {
   "cell_type": "code",
   "execution_count": 25,
   "metadata": {},
   "outputs": [],
   "source": [
    "smoker_and_age = list(zip(smoker_list, age_list_int))\n",
    "bmi_list_float = [ float(x) for x in bmi_list]\n",
    "smoker_and_bmi = list(zip(smoker_list, bmi_list_float))"
   ]
  },
  {
   "cell_type": "code",
   "execution_count": 22,
   "metadata": {},
   "outputs": [
    {
     "data": {
      "text/plain": [
       "38.51459854014598"
      ]
     },
     "execution_count": 22,
     "metadata": {},
     "output_type": "execute_result"
    }
   ],
   "source": [
    "# Average age of smokers\n",
    "\n",
    "def avg_age_smoker():\n",
    "    age_smoker_list = []\n",
    "    for pair in smoker_and_age:\n",
    "        if pair[0] == 'yes':\n",
    "            age_smoker_list.append(pair[1])\n",
    "    return sum(age_smoker_list) / len(age_smoker_list)\n",
    "\n",
    "avg_age_smoker()"
   ]
  },
  {
   "cell_type": "code",
   "execution_count": 21,
   "metadata": {},
   "outputs": [
    {
     "data": {
      "text/plain": [
       "39.38533834586466"
      ]
     },
     "execution_count": 21,
     "metadata": {},
     "output_type": "execute_result"
    }
   ],
   "source": [
    "# Average age of non-smokers\n",
    "\n",
    "def avg_age_nonsmoker():\n",
    "    age_nonsmoker_list = []\n",
    "    for pair in smoker_and_age:\n",
    "        if pair[0] == 'no':\n",
    "            age_nonsmoker_list.append(pair[1])\n",
    "    return sum(age_nonsmoker_list) / len(age_nonsmoker_list)\n",
    "\n",
    "avg_age_nonsmoker()"
   ]
  },
  {
   "cell_type": "code",
   "execution_count": 26,
   "metadata": {},
   "outputs": [
    {
     "data": {
      "text/plain": [
       "30.708448905109503"
      ]
     },
     "execution_count": 26,
     "metadata": {},
     "output_type": "execute_result"
    }
   ],
   "source": [
    "# Average BMI of smokers\n",
    "\n",
    "def avg_bmi_smoker():\n",
    "    bmi_smoker_list = []\n",
    "    for pair in smoker_and_bmi:\n",
    "        if pair[0] == 'yes':\n",
    "            bmi_smoker_list.append(pair[1])\n",
    "    return sum(bmi_smoker_list) / len(bmi_smoker_list)\n",
    "\n",
    "avg_bmi_smoker()"
   ]
  },
  {
   "cell_type": "code",
   "execution_count": 27,
   "metadata": {},
   "outputs": [
    {
     "data": {
      "text/plain": [
       "39.38533834586466"
      ]
     },
     "execution_count": 27,
     "metadata": {},
     "output_type": "execute_result"
    }
   ],
   "source": [
    "# Average BMI of Non-Smokers\n",
    "\n",
    "def avg_bmi_nonsmoker():\n",
    "    bmi_nonsmoker_list = []\n",
    "    for pair in smoker_and_age:\n",
    "        if pair[0] == 'no':\n",
    "            bmi_nonsmoker_list.append(pair[1])\n",
    "    return sum(bmi_nonsmoker_list) / len(bmi_nonsmoker_list)\n",
    "\n",
    "avg_bmi_nonsmoker()"
   ]
  },
  {
   "cell_type": "code",
   "execution_count": 68,
   "metadata": {},
   "outputs": [],
   "source": [
    "# Smokers and non-smokers per region\n",
    "\n",
    "smoker_and_region = list(zip(smoker_list, region_list))"
   ]
  },
  {
   "cell_type": "code",
   "execution_count": 71,
   "metadata": {},
   "outputs": [
    {
     "name": "stdout",
     "output_type": "stream",
     "text": [
      "{'southeast': 91, 'southwest': 58, 'northwest': 58, 'northeast': 67}\n"
     ]
    }
   ],
   "source": [
    "# Total smokers by region\n",
    "\n",
    "def smoker_region_table():\n",
    "    southeast = 0\n",
    "    southwest = 0\n",
    "    northwest = 0\n",
    "    northeast = 0\n",
    "    for pair in smoker_and_region:\n",
    "        if pair[0] == \"yes\" and pair[1] == 'southeast':\n",
    "            southeast += 1\n",
    "        elif pair[0] == \"yes\" and pair[1] == \"southwest\":\n",
    "            southwest += 1\n",
    "        elif pair[0] == \"yes\" and pair[1] == \"northwest\":\n",
    "            northwest += 1\n",
    "        elif pair[0] == \"yes\" and pair[1] == \"northeast\":\n",
    "            northeast += 1\n",
    "    return {\n",
    "        \"southeast\": southeast,\n",
    "        \"southwest\": southwest,\n",
    "        \"northwest\": northwest,\n",
    "        \"northeast\": northeast\n",
    "    }\n",
    "\n",
    "smoker_region = smoker_region_table()\n",
    "print(smoker_region)"
   ]
  },
  {
   "cell_type": "code",
   "execution_count": 72,
   "metadata": {},
   "outputs": [
    {
     "name": "stdout",
     "output_type": "stream",
     "text": [
      "{'southeast': 273, 'southwest': 267, 'northwest': 267, 'northeast': 257}\n"
     ]
    }
   ],
   "source": [
    "# Total non-Smokers by region\n",
    "\n",
    "def nonsmoker_region_table():\n",
    "    southeast = 0\n",
    "    southwest = 0\n",
    "    northwest = 0\n",
    "    northeast = 0\n",
    "    for pair in smoker_and_region:\n",
    "        if pair[0] == \"no\" and pair[1] == 'southeast':\n",
    "            southeast += 1\n",
    "        elif pair[0] == \"no\" and pair[1] == \"southwest\":\n",
    "            southwest += 1\n",
    "        elif pair[0] == \"no\" and pair[1] == \"northwest\":\n",
    "            northwest += 1\n",
    "        elif pair[0] == \"no\" and pair[1] == \"northeast\":\n",
    "            northeast += 1\n",
    "    return {\n",
    "        \"southeast\": southeast,\n",
    "        \"southwest\": southwest,\n",
    "        \"northwest\": northwest,\n",
    "        \"northeast\": northeast\n",
    "    }\n",
    "\n",
    "nonsmoker_region = nonsmoker_region_table()\n",
    "print(nonsmoker_region)"
   ]
  },
  {
   "cell_type": "code",
   "execution_count": 97,
   "metadata": {},
   "outputs": [
    {
     "data": {
      "image/png": "[encoded data removed]",
      "text/plain": [
       "<Figure size 432x288 with 1 Axes>"
      ]
     },
     "metadata": {
      "needs_background": "light"
     },
     "output_type": "display_data"
    }
   ],
   "source": [
    "# Total smokers and non-smokers by region chart\n",
    "\n",
    "smoker_region_list = smoker_region.items()\n",
    "x1, y1 = zip(*smoker_region_list)\n",
    "\n",
    "nonsmoker_region_list = nonsmoker_region.items()\n",
    "x2, y2 = zip(*nonsmoker_region_list)\n",
    "\n",
    "colors2 = ['#e41a1c', '#377eb8', '#4daf4a', '#984ea3']\n",
    "regions = [\"southeast\", \"southwest\", \"northwest\", \"northeast\"]\n",
    "\n",
    "x_axis = np.arange(len(regions))\n",
    "\n",
    "fig, ax = plt.subplots()\n",
    "ax.bar(x_axis -0.2, y1, width = 0.4, color = \"red\")\n",
    "ax.set_label(\"Smoker\")\n",
    "ax.bar(x_axis +0.2, y2, width = 0.4, color = \"blue\")\n",
    "ax.set_label(\"Non-Smoker\")\n",
    "plt.xticks(x_axis, regions)\n",
    "plt.legend([\"Smoker\", \"Non-Smoker\"], loc=\"center right\")\n",
    "plt.xlabel(\"Region\")\n",
    "plt.title(\"Total Number of Smokers and Non-Smokers by Region\")\n",
    "plt.show()"
   ]
  },
  {
   "cell_type": "code",
   "execution_count": 122,
   "metadata": {},
   "outputs": [
    {
     "name": "stdout",
     "output_type": "stream",
     "text": [
      "Total smokers:274\n",
      "Total non-smokers:1064\n"
     ]
    },
    {
     "data": {
      "image/png": "[encoded data removed]",
      "text/plain": [
       "<Figure size 432x288 with 1 Axes>"
      ]
     },
     "metadata": {
      "needs_background": "light"
     },
     "output_type": "display_data"
    }
   ],
   "source": [
    "# Percentage of Smokers by Region\n",
    "\n",
    "total_smokers = sum(y1)\n",
    "print(\"Total smokers:\" + str(total_smokers))\n",
    "\n",
    "total_nonsmokers = sum(y2)\n",
    "print(\"Total non-smokers:\" + str(total_nonsmokers))\n",
    "\n",
    "smoker_per = [ 100 * (x / total_smokers) for x in y1]\n",
    "nonsmoker_per = [ 100 * (x / total_nonsmokers) for x in y2]\n",
    "\n",
    "x_axis = np.arange(len(regions))\n",
    "\n",
    "fig, ax = plt.subplots()\n",
    "ax.bar(x_axis -0.2, smoker_per, width = 0.4, color = \"red\")\n",
    "ax.set_label(\"Smoker\")\n",
    "ax.bar(x_axis +0.2, nonsmoker_per, width = 0.4, color = \"blue\")\n",
    "ax.set_label(\"Non-Smoker\")\n",
    "plt.xticks(x_axis, regions)\n",
    "plt.legend([\"Smoker\", \"Non-Smoker\"], loc=\"upper right\")\n",
    "plt.xlabel(\"Region\")\n",
    "plt.ylabel(\"%\")\n",
    "plt.title(\"Percentage of Smokers and Non-Smokers by Region\")\n",
    "plt.ylim(15)\n",
    "plt.show()"
   ]
  },
  {
   "cell_type": "markdown",
   "metadata": {},
   "source": [
    "## What is the average age for someone with at least one child?\n",
    "\n",
    "The average age for someone with at least one child in this dataset is about 39 years old."
   ]
  },
  {
   "cell_type": "code",
   "execution_count": 106,
   "metadata": {},
   "outputs": [],
   "source": [
    "# What is the average age for someone with at least one child?\n",
    "\n",
    "age_list_float = [int(x) for x in age_list]\n",
    "child_list_float = [int(x) for x in children_list]\n",
    "age_and_children = list(zip(age_list_float, child_list_float))"
   ]
  },
  {
   "cell_type": "code",
   "execution_count": 111,
   "metadata": {},
   "outputs": [],
   "source": [
    "def avg_age_parent():\n",
    "    parents_ages = [ pair[0] for pair in age_and_children if pair[1] > 0 ]\n",
    "    return sum(parents_ages) / len(parents_ages)"
   ]
  },
  {
   "cell_type": "code",
   "execution_count": 112,
   "metadata": {},
   "outputs": [
    {
     "name": "stdout",
     "output_type": "stream",
     "text": [
      "39.78010471204188\n"
     ]
    }
   ],
   "source": [
    "average_age = avg_age_parent()\n",
    "print(average_age)"
   ]
  }
 ],
 "metadata": {
  "kernelspec": {
   "display_name": "Python 3 (ipykernel)",
   "language": "python",
   "name": "python3"
  },
  "language_info": {
   "codemirror_mode": {
    "name": "ipython",
    "version": 3
   },
   "file_extension": ".py",
   "mimetype": "text/x-python",
   "name": "python",
   "nbconvert_exporter": "python",
   "pygments_lexer": "ipython3",
   "version": "3.9.12"
  }
 },
 "nbformat": 4,
 "nbformat_minor": 4
}
